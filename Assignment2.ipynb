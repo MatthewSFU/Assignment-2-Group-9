{
  "nbformat": 4,
  "nbformat_minor": 0,
  "metadata": {
    "colab": {
      "provenance": [],
      "authorship_tag": "ABX9TyO3hKK6mta4HkIeHQoKbg6V",
      "include_colab_link": true
    },
    "kernelspec": {
      "name": "python3",
      "display_name": "Python 3"
    },
    "language_info": {
      "name": "python"
    }
  },
  "cells": [
    {
      "cell_type": "markdown",
      "metadata": {
        "id": "view-in-github",
        "colab_type": "text"
      },
      "source": [
        "<a href=\"https://colab.research.google.com/github/MatthewSFU/Assignment-2-Group-9/blob/main/Assignment2.ipynb\" target=\"_parent\"><img src=\"https://colab.research.google.com/assets/colab-badge.svg\" alt=\"Open In Colab\"/></a>"
      ]
    },
    {
      "cell_type": "markdown",
      "source": [
        "# LING 380 - Assignment 2 (Group 9)\n",
        "\n",
        "### Group Members & Responsibilities\n",
        "\n",
        "| Name (Last, First) | Student ID | Section Contributed | Section Edited | Other Contributions |\n",
        "|---|---|---|---|---|\n",
        "| Miguel, Matthew | 301422631 | Code Writer | Code review | Set up GitHub repo |\n",
        "| Intanon, Supamongkol  | 301541005 | Description Writer | Final formatting | Group communication |\n",
        "\n"
      ],
      "metadata": {
        "id": "gtWoJQq3A4tX"
      }
    },
    {
      "cell_type": "code",
      "execution_count": null,
      "metadata": {
        "id": "HQ73-_pa8VNJ"
      },
      "outputs": [],
      "source": []
    },
    {
      "cell_type": "markdown",
      "source": [],
      "metadata": {
        "id": "dBjmC-ne87mH"
      }
    }
  ]
}